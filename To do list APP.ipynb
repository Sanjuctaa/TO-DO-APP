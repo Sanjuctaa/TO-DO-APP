{
 "cells": [
  {
   "cell_type": "code",
   "execution_count": 1,
   "id": "abfb8afd",
   "metadata": {},
   "outputs": [],
   "source": [
    "from tkinter import *\n",
    "from tkinter import messagebox"
   ]
  },
  {
   "cell_type": "code",
   "execution_count": 2,
   "id": "0f8ba253",
   "metadata": {},
   "outputs": [],
   "source": [
    "#create funtion\n",
    "\n",
    "task_list= []\n",
    "\n",
    "    \n",
    "#create main window\n",
    "\n",
    "win=Tk()\n",
    "win.geometry('500x450+500+200')\n",
    "win.title(\"Sanjucta Sutadhar's App\")\n",
    "win.config(bg='#0077B6')\n",
    "\n",
    "#create label\n",
    "\n",
    "name_lab= Label(win,text='To Do List',bg='light blue',font=('Times','25'))\n",
    "name_lab.pack(fill=BOTH)\n",
    "\n",
    "    #create widgets (frame,Listbox, Scrollbar,Entry,Button)\n",
    "\n",
    "    #entry_box\n",
    "\n",
    "my_entry=Entry(win,font=('Times',18))\n",
    "my_entry.pack(pady=40)\n",
    "\n",
    "def newTask():\n",
    "    task= my_entry.get()\n",
    "    if task !=\"\":\n",
    "        lb.insert(END,task)\n",
    "        my_entry.delete(0,\"end\")\n",
    "    else:\n",
    "        messagebox.showwarning(\"warning\",\"please enter some task.\")\n",
    "\n",
    "def deleteTask():\n",
    "    lb.delete(ANCHOR)\n",
    "\n",
    "\n",
    "\n",
    "#button\n",
    "but_frame= Frame(win)\n",
    "but_frame.pack(pady=1)\n",
    "\n",
    "add_button= Button(but_frame,text=\"Add Task\",bg='#008631',font=('Times', \"13\"),fg='white',command= newTask)\n",
    "add_button.pack(fill=BOTH, expand=True,side=LEFT)\n",
    "\n",
    "del_button= Button(but_frame,text=\"Delete Task\",bg='#FF6E00',font=('Times', \"13\"),fg='white',command=deleteTask)\n",
    "del_button.pack(fill=BOTH, expand=True,side=RIGHT)\n",
    "\n",
    "#listbox\n",
    "\n",
    "frame= Frame(win)\n",
    "frame.pack(pady=50)\n",
    "\n",
    "lb=Listbox(frame,width=25,height=30,font=('Times',17),bd=0, fg='#464646', \n",
    "           highlightthickness=0,selectbackground='#a6a6a6',activestyle=\"none\")\n",
    "lb.pack(side=LEFT,fill= BOTH)\n",
    "\n",
    "\n",
    "for item in task_list:\n",
    "    lb.insert(END,item)          \n",
    "\n",
    "sb= Scrollbar(frame)\n",
    "sb.pack(side=RIGHT, fill=BOTH)\n",
    "lb.config(yscrollcommand=sb.set)\n",
    "sb.config(command=lb.yview)\n",
    "\n",
    "win.mainloop()"
   ]
  },
  {
   "cell_type": "code",
   "execution_count": null,
   "id": "b08a87a0",
   "metadata": {},
   "outputs": [],
   "source": [
    "\n",
    "           \n"
   ]
  }
 ],
 "metadata": {
  "kernelspec": {
   "display_name": "Python 3 (ipykernel)",
   "language": "python",
   "name": "python3"
  },
  "language_info": {
   "codemirror_mode": {
    "name": "ipython",
    "version": 3
   },
   "file_extension": ".py",
   "mimetype": "text/x-python",
   "name": "python",
   "nbconvert_exporter": "python",
   "pygments_lexer": "ipython3",
   "version": "3.11.4"
  }
 },
 "nbformat": 4,
 "nbformat_minor": 5
}
